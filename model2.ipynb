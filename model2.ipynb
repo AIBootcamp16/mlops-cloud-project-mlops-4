{
 "cells": [
  {
   "cell_type": "code",
   "execution_count": 15,
   "id": "bcccf129",
   "metadata": {},
   "outputs": [
    {
     "name": "stdout",
     "output_type": "stream",
     "text": [
      "/Users/kim-yein/anaconda3/bin/python\n",
      "3.11.3 (main, Apr 19 2023, 18:49:55) [Clang 14.0.6 ]\n"
     ]
    }
   ],
   "source": [
    "import sys\n",
    "print(sys.executable)\n",
    "print(sys.version)\n"
   ]
  },
  {
   "cell_type": "markdown",
   "id": "5d1e72d5",
   "metadata": {},
   "source": [
    "## 데이터 누수 의심되어 개선한 모델\n",
    "\n",
    "### 기본 원칙\n",
    "\n",
    "1. Scaler는 반드시 train 데이터로만 fit\n",
    "- val/test는 transform만 적용\n",
    "- 이유: val/test를 fit에 포함하면 미래 정보가 학습에 유출됨 → 데이터 누수\n",
    "\n",
    "2. 시간 순서 유지\n",
    "- train → val → test 순으로 분리\n",
    "- 시계열은 shuffle X"
   ]
  },
  {
   "cell_type": "markdown",
   "id": "195af462",
   "metadata": {},
   "source": [
    "# Feature Engineering\n",
    "## 1. 데이터\n",
    "- KRW-BTC_historical.csv 등 4개 종목의 코인\n",
    "- 기간: 23.09.22~25.09.22\n",
    "- 1시간 단위 호출 - 실제 거래가 발생한 시간에만 데이터 존재. 시간 간격이 일정하지 않음\n",
    "- 목표: 1시간 후의 값 예측하기"
   ]
  },
  {
   "cell_type": "code",
   "execution_count": 1,
   "id": "76b3c5d7",
   "metadata": {},
   "outputs": [],
   "source": [
    "import pandas as pd\n",
    "\n",
    "files = [\"KRW-BTC_historical.csv\"]#, \"KRW-ETH_historical.csv\", \"KRW-XRP_historical.csv\", \"KRW-DOGE_historical.csv\"]\n",
    "#dfs = []\n",
    "\n",
    "for f in files:\n",
    "    df = pd.read_csv(f\"data/data_2023/{f}\", parse_dates=['timestamp'])\n",
    "    df = df.sort_values('timestamp')\n",
    "    #dfs.append(df)"
   ]
  },
  {
   "cell_type": "code",
   "execution_count": 2,
   "id": "6b8e95f0",
   "metadata": {},
   "outputs": [
    {
     "data": {
      "text/html": [
       "<div>\n",
       "<style scoped>\n",
       "    .dataframe tbody tr th:only-of-type {\n",
       "        vertical-align: middle;\n",
       "    }\n",
       "\n",
       "    .dataframe tbody tr th {\n",
       "        vertical-align: top;\n",
       "    }\n",
       "\n",
       "    .dataframe thead th {\n",
       "        text-align: right;\n",
       "    }\n",
       "</style>\n",
       "<table border=\"1\" class=\"dataframe\">\n",
       "  <thead>\n",
       "    <tr style=\"text-align: right;\">\n",
       "      <th></th>\n",
       "      <th>timestamp</th>\n",
       "      <th>market</th>\n",
       "      <th>trade_price</th>\n",
       "      <th>change_rate</th>\n",
       "      <th>acc_trade_volume</th>\n",
       "    </tr>\n",
       "  </thead>\n",
       "  <tbody>\n",
       "    <tr>\n",
       "      <th>0</th>\n",
       "      <td>2023-09-22 00:00:00</td>\n",
       "      <td>KRW-BTC</td>\n",
       "      <td>36061000.0</td>\n",
       "      <td>0.000444</td>\n",
       "      <td>107.401450</td>\n",
       "    </tr>\n",
       "    <tr>\n",
       "      <th>1</th>\n",
       "      <td>2023-09-22 01:00:00</td>\n",
       "      <td>KRW-BTC</td>\n",
       "      <td>36045000.0</td>\n",
       "      <td>-0.001441</td>\n",
       "      <td>92.497331</td>\n",
       "    </tr>\n",
       "    <tr>\n",
       "      <th>2</th>\n",
       "      <td>2023-09-22 02:00:00</td>\n",
       "      <td>KRW-BTC</td>\n",
       "      <td>36097000.0</td>\n",
       "      <td>0.001832</td>\n",
       "      <td>29.542787</td>\n",
       "    </tr>\n",
       "    <tr>\n",
       "      <th>3</th>\n",
       "      <td>2023-09-22 03:00:00</td>\n",
       "      <td>KRW-BTC</td>\n",
       "      <td>36031000.0</td>\n",
       "      <td>0.000472</td>\n",
       "      <td>29.160949</td>\n",
       "    </tr>\n",
       "    <tr>\n",
       "      <th>4</th>\n",
       "      <td>2023-09-22 04:00:00</td>\n",
       "      <td>KRW-BTC</td>\n",
       "      <td>36014000.0</td>\n",
       "      <td>-0.001026</td>\n",
       "      <td>24.811768</td>\n",
       "    </tr>\n",
       "  </tbody>\n",
       "</table>\n",
       "</div>"
      ],
      "text/plain": [
       "            timestamp   market  trade_price  change_rate  acc_trade_volume\n",
       "0 2023-09-22 00:00:00  KRW-BTC   36061000.0     0.000444        107.401450\n",
       "1 2023-09-22 01:00:00  KRW-BTC   36045000.0    -0.001441         92.497331\n",
       "2 2023-09-22 02:00:00  KRW-BTC   36097000.0     0.001832         29.542787\n",
       "3 2023-09-22 03:00:00  KRW-BTC   36031000.0     0.000472         29.160949\n",
       "4 2023-09-22 04:00:00  KRW-BTC   36014000.0    -0.001026         24.811768"
      ]
     },
     "execution_count": 2,
     "metadata": {},
     "output_type": "execute_result"
    }
   ],
   "source": [
    "df.head()"
   ]
  },
  {
   "cell_type": "code",
   "execution_count": 3,
   "id": "2ce6af67",
   "metadata": {},
   "outputs": [
    {
     "name": "stdout",
     "output_type": "stream",
     "text": [
      "<class 'pandas.core.frame.DataFrame'>\n",
      "Int64Index: 17537 entries, 0 to 17536\n",
      "Data columns (total 5 columns):\n",
      " #   Column            Non-Null Count  Dtype         \n",
      "---  ------            --------------  -----         \n",
      " 0   timestamp         17537 non-null  datetime64[ns]\n",
      " 1   market            17537 non-null  object        \n",
      " 2   trade_price       17537 non-null  float64       \n",
      " 3   change_rate       17536 non-null  float64       \n",
      " 4   acc_trade_volume  17537 non-null  float64       \n",
      "dtypes: datetime64[ns](1), float64(3), object(1)\n",
      "memory usage: 822.0+ KB\n"
     ]
    }
   ],
   "source": [
    "df.info()"
   ]
  },
  {
   "cell_type": "code",
   "execution_count": 4,
   "id": "173f611c",
   "metadata": {},
   "outputs": [],
   "source": [
    "#결측치\n",
    "#null과 누락된 시간대 보간\n",
    "df = df.set_index('timestamp').resample('1H').ffill()"
   ]
  },
  {
   "cell_type": "code",
   "execution_count": 5,
   "id": "30851fb6",
   "metadata": {},
   "outputs": [
    {
     "name": "stdout",
     "output_type": "stream",
     "text": [
      "<class 'pandas.core.frame.DataFrame'>\n",
      "DatetimeIndex: 17568 entries, 2023-09-22 00:00:00 to 2025-09-22 23:00:00\n",
      "Freq: H\n",
      "Data columns (total 4 columns):\n",
      " #   Column            Non-Null Count  Dtype  \n",
      "---  ------            --------------  -----  \n",
      " 0   market            17568 non-null  object \n",
      " 1   trade_price       17568 non-null  float64\n",
      " 2   change_rate       17567 non-null  float64\n",
      " 3   acc_trade_volume  17568 non-null  float64\n",
      "dtypes: float64(3), object(1)\n",
      "memory usage: 686.2+ KB\n"
     ]
    }
   ],
   "source": [
    "df.info()\n",
    "#change_rate는 이전 시간 대비 가격 변화율이라서 1개가 null"
   ]
  },
  {
   "cell_type": "code",
   "execution_count": 6,
   "id": "3918c292",
   "metadata": {},
   "outputs": [],
   "source": [
    "#시계열 특징 생성\n",
    "\n",
    "#이동평균 (MA), 이동표준편차 (STD), RSI, MACD 등\n",
    "#Lag feature 생성 (trade_price t-1, t-2 …)\n",
    "\n",
    "df['MA_3'] = df['trade_price'].rolling(3).mean()\n",
    "df['MA_6'] = df['trade_price'].rolling(6).mean()\n",
    "df['lag_1'] = df['trade_price'].shift(1)\n",
    "df = df.dropna()"
   ]
  },
  {
   "cell_type": "code",
   "execution_count": 7,
   "id": "07e97f05",
   "metadata": {},
   "outputs": [],
   "source": [
    "#데이터 입출력\n",
    "#과거 24시간의 데이터로 다음 1시간 가격 예측\n",
    "sequence_length = 24\n",
    "\n",
    "def create_sequences(data, seq_len):\n",
    "    X, y = [], []\n",
    "    for i in range(len(data) - seq_len):\n",
    "        X.append(data[i:i+seq_len])\n",
    "        y.append(data[i+seq_len, 0])\n",
    "    return np.array(X), np.array(y)\n",
    "\n",
    "import numpy as np\n",
    "features = df[['trade_price','acc_trade_volume','MA_3','MA_6','lag_1']].values\n",
    "X, y = create_sequences(features, sequence_length)\n"
   ]
  },
  {
   "cell_type": "code",
   "execution_count": 8,
   "id": "1e55f4c9",
   "metadata": {},
   "outputs": [],
   "source": [
    "#학습/검증/테스트(7:2:1) 데이터 분리\n",
    "#시계열 데이터이므로 시간 순서대로 split\n",
    "train_size = int(len(X) * 0.7)\n",
    "val_size = int(len(X) * 0.2)\n",
    "X_train, y_train = X[:train_size], y[:train_size]\n",
    "X_val, y_val = X[train_size:train_size+val_size], y[train_size:train_size+val_size]\n",
    "X_test, y_test = X[train_size+val_size:], y[train_size+val_size:]"
   ]
  },
  {
   "cell_type": "code",
   "execution_count": 9,
   "id": "4ef40dbc",
   "metadata": {},
   "outputs": [
    {
     "data": {
      "text/plain": [
       "5"
      ]
     },
     "execution_count": 9,
     "metadata": {},
     "output_type": "execute_result"
    }
   ],
   "source": [
    "X_train.shape[2]"
   ]
  },
  {
   "cell_type": "code",
   "execution_count": 10,
   "id": "eaf64ba5",
   "metadata": {},
   "outputs": [],
   "source": [
    "#정규화\n",
    "#train-fit, val/test-transform\n",
    "from sklearn.preprocessing import MinMaxScaler\n",
    "import numpy as np\n",
    "\n",
    "num_features = X_train.shape[2]\n",
    "\n",
    "scaler_X = MinMaxScaler()\n",
    "X_train_scaled = scaler_X.fit_transform(X_train.reshape(-1, num_features)).reshape(X_train.shape)\n",
    "X_val_scaled = scaler_X.transform(X_val.reshape(-1, num_features)).reshape(X_val.shape)\n",
    "X_test_scaled = scaler_X.transform(X_test.reshape(-1, num_features)).reshape(X_test.shape)\n",
    "\n",
    "scaler_y = MinMaxScaler()\n",
    "\n",
    "# 반드시 2D 형태로 넣기: (samples, 1)\n",
    "y_train_scaled = scaler_y.fit_transform(y_train.reshape(-1, 1))\n",
    "y_val_scaled = scaler_y.transform(y_val.reshape(-1, 1))\n",
    "y_test_scaled = scaler_y.transform(y_test.reshape(-1, 1))\n"
   ]
  },
  {
   "cell_type": "code",
   "execution_count": 11,
   "id": "82a62358",
   "metadata": {},
   "outputs": [
    {
     "name": "stdout",
     "output_type": "stream",
     "text": [
      "Epoch 1/50\n",
      "384/384 [==============================] - 3s 6ms/step - loss: 0.0030 - val_loss: 1.3150e-04\n",
      "Epoch 2/50\n",
      "384/384 [==============================] - 2s 5ms/step - loss: 7.0803e-05 - val_loss: 1.3826e-04\n",
      "Epoch 3/50\n",
      "384/384 [==============================] - 2s 6ms/step - loss: 6.6401e-05 - val_loss: 1.5248e-04\n",
      "Epoch 4/50\n",
      "384/384 [==============================] - 2s 6ms/step - loss: 6.1791e-05 - val_loss: 1.0305e-04\n",
      "Epoch 5/50\n",
      "384/384 [==============================] - 2s 6ms/step - loss: 5.9590e-05 - val_loss: 1.0440e-04\n",
      "Epoch 6/50\n",
      "384/384 [==============================] - 2s 5ms/step - loss: 5.7705e-05 - val_loss: 8.1117e-05\n",
      "Epoch 7/50\n",
      "384/384 [==============================] - 2s 5ms/step - loss: 5.5891e-05 - val_loss: 1.4793e-04\n",
      "Epoch 8/50\n",
      "384/384 [==============================] - 3s 8ms/step - loss: 5.4841e-05 - val_loss: 8.8946e-05\n",
      "Epoch 9/50\n",
      "384/384 [==============================] - 2s 5ms/step - loss: 4.7478e-05 - val_loss: 8.4224e-05\n",
      "Epoch 10/50\n",
      "384/384 [==============================] - 2s 5ms/step - loss: 5.1992e-05 - val_loss: 9.1067e-05\n",
      "Epoch 11/50\n",
      "384/384 [==============================] - 2s 6ms/step - loss: 4.7132e-05 - val_loss: 6.5111e-05\n",
      "Epoch 12/50\n",
      "384/384 [==============================] - 2s 5ms/step - loss: 4.5081e-05 - val_loss: 1.2074e-04\n",
      "Epoch 13/50\n",
      "384/384 [==============================] - 2s 5ms/step - loss: 4.3346e-05 - val_loss: 7.8968e-05\n",
      "Epoch 14/50\n",
      "384/384 [==============================] - 2s 5ms/step - loss: 3.7355e-05 - val_loss: 5.2630e-05\n",
      "Epoch 15/50\n",
      "384/384 [==============================] - 2s 5ms/step - loss: 4.3494e-05 - val_loss: 2.1579e-04\n",
      "Epoch 16/50\n",
      "384/384 [==============================] - 2s 5ms/step - loss: 3.7835e-05 - val_loss: 4.5658e-05\n",
      "Epoch 17/50\n",
      "384/384 [==============================] - 2s 5ms/step - loss: 3.1649e-05 - val_loss: 4.3540e-05\n",
      "Epoch 18/50\n",
      "384/384 [==============================] - 2s 5ms/step - loss: 3.4242e-05 - val_loss: 6.5910e-05\n",
      "Epoch 19/50\n",
      "384/384 [==============================] - 2s 5ms/step - loss: 3.0025e-05 - val_loss: 4.0112e-05\n",
      "Epoch 20/50\n",
      "384/384 [==============================] - 2s 5ms/step - loss: 3.6469e-05 - val_loss: 4.0723e-05\n",
      "Epoch 21/50\n",
      "384/384 [==============================] - 2s 6ms/step - loss: 2.6386e-05 - val_loss: 6.8579e-05\n",
      "Epoch 22/50\n",
      "384/384 [==============================] - 2s 5ms/step - loss: 3.0770e-05 - val_loss: 3.3882e-05\n",
      "Epoch 23/50\n",
      "384/384 [==============================] - 2s 5ms/step - loss: 2.5440e-05 - val_loss: 6.7652e-05\n",
      "Epoch 24/50\n",
      "384/384 [==============================] - 2s 5ms/step - loss: 2.4065e-05 - val_loss: 3.4354e-05\n",
      "Epoch 25/50\n",
      "384/384 [==============================] - 2s 5ms/step - loss: 2.8241e-05 - val_loss: 7.4791e-05\n",
      "Epoch 26/50\n",
      "384/384 [==============================] - 2s 5ms/step - loss: 2.7005e-05 - val_loss: 3.1953e-05\n",
      "Epoch 27/50\n",
      "384/384 [==============================] - 2s 6ms/step - loss: 2.9920e-05 - val_loss: 3.0231e-05\n",
      "Epoch 28/50\n",
      "384/384 [==============================] - 2s 5ms/step - loss: 2.2260e-05 - val_loss: 2.8706e-05\n",
      "Epoch 29/50\n",
      "384/384 [==============================] - 3s 8ms/step - loss: 2.1773e-05 - val_loss: 3.7813e-05\n",
      "Epoch 30/50\n",
      "384/384 [==============================] - 3s 7ms/step - loss: 2.2584e-05 - val_loss: 2.9447e-05\n",
      "Epoch 31/50\n",
      "384/384 [==============================] - 2s 5ms/step - loss: 2.0590e-05 - val_loss: 6.3533e-05\n",
      "Epoch 32/50\n",
      "384/384 [==============================] - 2s 6ms/step - loss: 2.1878e-05 - val_loss: 3.5994e-05\n",
      "Epoch 33/50\n",
      "384/384 [==============================] - 2s 5ms/step - loss: 2.1699e-05 - val_loss: 2.7024e-05\n",
      "Epoch 34/50\n",
      "384/384 [==============================] - 2s 5ms/step - loss: 2.1075e-05 - val_loss: 2.8880e-05\n",
      "Epoch 35/50\n",
      "384/384 [==============================] - 2s 5ms/step - loss: 1.8775e-05 - val_loss: 2.5857e-05\n",
      "Epoch 36/50\n",
      "384/384 [==============================] - 2s 6ms/step - loss: 2.2216e-05 - val_loss: 2.4311e-05\n",
      "Epoch 37/50\n",
      "384/384 [==============================] - 3s 7ms/step - loss: 1.9558e-05 - val_loss: 2.6002e-05\n",
      "Epoch 38/50\n",
      "384/384 [==============================] - 2s 5ms/step - loss: 1.9040e-05 - val_loss: 2.5235e-05\n",
      "Epoch 39/50\n",
      "384/384 [==============================] - 2s 6ms/step - loss: 1.9819e-05 - val_loss: 2.3967e-05\n",
      "Epoch 40/50\n",
      "384/384 [==============================] - 2s 5ms/step - loss: 2.0576e-05 - val_loss: 2.8061e-05\n",
      "Epoch 41/50\n",
      "384/384 [==============================] - 2s 6ms/step - loss: 2.1279e-05 - val_loss: 2.4075e-05\n",
      "Epoch 42/50\n",
      "384/384 [==============================] - 2s 6ms/step - loss: 1.8563e-05 - val_loss: 2.5437e-05\n",
      "Epoch 43/50\n",
      "384/384 [==============================] - 2s 5ms/step - loss: 1.8197e-05 - val_loss: 2.6843e-05\n",
      "Epoch 44/50\n",
      "384/384 [==============================] - 2s 5ms/step - loss: 2.0452e-05 - val_loss: 3.0153e-05\n",
      "Epoch 45/50\n",
      "384/384 [==============================] - 2s 6ms/step - loss: 2.0710e-05 - val_loss: 2.8840e-05\n",
      "Epoch 46/50\n",
      "384/384 [==============================] - 2s 5ms/step - loss: 1.9090e-05 - val_loss: 2.9981e-05\n",
      "Epoch 47/50\n",
      "384/384 [==============================] - 2s 6ms/step - loss: 2.0955e-05 - val_loss: 4.9569e-05\n",
      "Epoch 48/50\n",
      "384/384 [==============================] - 2s 6ms/step - loss: 1.9844e-05 - val_loss: 2.5131e-05\n",
      "Epoch 49/50\n",
      "384/384 [==============================] - 2s 5ms/step - loss: 1.9789e-05 - val_loss: 5.0801e-05\n",
      "Epoch 50/50\n",
      "384/384 [==============================] - 2s 6ms/step - loss: 2.0015e-05 - val_loss: 3.1864e-05\n"
     ]
    },
    {
     "data": {
      "text/plain": [
       "<keras.src.callbacks.History at 0x1769dce90>"
      ]
     },
     "execution_count": 11,
     "metadata": {},
     "output_type": "execute_result"
    }
   ],
   "source": [
    "# LSTM\n",
    "from tensorflow.keras.models import Sequential\n",
    "from tensorflow.keras.layers import LSTM, Dense\n",
    "\n",
    "model = Sequential([\n",
    "    LSTM(64, input_shape=(X_train_scaled.shape[1], X_train_scaled.shape[2])),\n",
    "    Dense(1)\n",
    "])\n",
    "model.compile(optimizer='adam', loss='mse')\n",
    "model.fit(X_train_scaled, y_train_scaled, validation_data=(X_val_scaled, y_val_scaled), epochs=50, batch_size=32)\n"
   ]
  },
  {
   "cell_type": "code",
   "execution_count": 12,
   "id": "3b48e98c",
   "metadata": {},
   "outputs": [
    {
     "name": "stdout",
     "output_type": "stream",
     "text": [
      "55/55 [==============================] - 0s 2ms/step\n",
      "(1755, 1)\n",
      "RMSE: 0.005857838118325846 MAE: 0.0050722022812521705\n"
     ]
    }
   ],
   "source": [
    "#모델 평가\n",
    "from sklearn.metrics import mean_squared_error, mean_absolute_error\n",
    "y_pred = model.predict(X_test_scaled)\n",
    "print(y_pred.shape)\n",
    "rmse = np.sqrt(mean_squared_error(y_test_scaled, y_pred))\n",
    "mae = mean_absolute_error(y_test_scaled, y_pred)\n",
    "print(\"RMSE:\", rmse, \"MAE:\", mae)"
   ]
  },
  {
   "cell_type": "code",
   "execution_count": 13,
   "id": "d9b9dfa6",
   "metadata": {},
   "outputs": [
    {
     "data": {
      "image/png": "[encoded data removed]",
      "text/plain": [
       "<Figure size 640x480 with 1 Axes>"
      ]
     },
     "metadata": {},
     "output_type": "display_data"
    }
   ],
   "source": [
    "#시각화\n",
    "import matplotlib.pyplot as plt\n",
    "plt.plot(y_test_scaled, label='actual')\n",
    "plt.plot(y_pred, label='pred')\n",
    "plt.legend()\n",
    "plt.show()"
   ]
  },
  {
   "cell_type": "markdown",
   "id": "c150736a",
   "metadata": {},
   "source": [
    "### MinMaxScaling 후 \n",
    "- RMSE < 0.01 이면 성능 좋은 편\n",
    "- MAE  < 0.01~2 이면 정확한 편"
   ]
  },
  {
   "cell_type": "markdown",
   "id": "6a770198",
   "metadata": {},
   "source": [
    "# 모델 저장"
   ]
  },
  {
   "cell_type": "code",
   "execution_count": 14,
   "id": "55d603a8",
   "metadata": {},
   "outputs": [
    {
     "name": "stderr",
     "output_type": "stream",
     "text": [
      "/Users/kim-yein/anaconda3/lib/python3.11/site-packages/keras/src/engine/training.py:3000: UserWarning: You are saving your model as an HDF5 file via `model.save()`. This file format is considered legacy. We recommend using instead the native Keras format, e.g. `model.save('my_model.keras')`.\n",
      "  saving_api.save_model(\n"
     ]
    }
   ],
   "source": [
    "import os\n",
    "import json\n",
    "from tensorflow.keras.models import load_model\n",
    "from joblib import dump\n",
    "\n",
    "# artifacts 폴더 생성\n",
    "ARTIFACT_DIR = \"artifacts\"\n",
    "os.makedirs(ARTIFACT_DIR, exist_ok=True)\n",
    "\n",
    "# === 모델 저장 ===\n",
    "model.save(os.path.join(ARTIFACT_DIR, \"lstm_model.h5\"))\n",
    "\n",
    "# === 스케일러 저장 ===\n",
    "dump(scaler_X, os.path.join(ARTIFACT_DIR, \"scaler_X.joblib\"))\n",
    "dump(scaler_y, os.path.join(ARTIFACT_DIR, \"scaler_y.joblib\"))\n",
    "\n",
    "# === 피처 리스트 저장 ===\n",
    "features = ['trade_price','acc_trade_volume','MA_3','MA_6','lag_1']\n",
    "with open(os.path.join(ARTIFACT_DIR, \"features.json\"), \"w\") as f:\n",
    "    json.dump(features, f)"
   ]
  },
  {
   "cell_type": "markdown",
   "id": "7f6d53fa",
   "metadata": {},
   "source": [
    "## 시계열 특징 변수 추가\n",
    "1. 최소한의 핵심 피처로 베이스라인 학습(현재)\n",
    "- trade_price, acc_trade_volume, lag_1, MA_3 정도\n",
    "- 모델이 정상적으로 학습되는지 확인\n",
    "\n",
    "2. 추가 feature 생성\n",
    "- 변동성, momentum, 거래량 변화, 시간 관련 정보 등\n",
    "- 모델 학습 후 성능 향상 여부 확인\n",
    "\n",
    "3. 중요 피처 선별\n",
    "- Permutation importance 또는 SHAP 값으로 feature importance 확인\n",
    "- 중요하지 않은 피처 제거 후 모델 재학습 → 성능 안정화"
   ]
  },
  {
   "cell_type": "markdown",
   "id": "3eb39161",
   "metadata": {},
   "source": [
    "## 추가 고도화\n",
    "1. 다중 종목 모델\n",
    "- BTC, ETH, XRP, DOGE 데이터를 함께 학습\n",
    "- Cross-correlation 반영 가능\n",
    "\n",
    "2. 다중 단계 예측\n",
    "- 다음 1시간뿐 아니라 6시간, 12시간 등도 예측\n",
    "\n",
    "3. 강화학습/Transformer\n",
    "- Transformer 기반 시계열 모델 (예: Informer, Temporal Fusion Transformer)\n",
    "- 더 긴 시퀀스 학습 가능\n",
    "\n",
    "4. 자동화\n",
    "- 실시간 가격 데이터 수집 → 모델 예측 → 알람/트레이딩 전략 적용"
   ]
  }
 ],
 "metadata": {
  "kernelspec": {
   "display_name": "base",
   "language": "python",
   "name": "python3"
  },
  "language_info": {
   "codemirror_mode": {
    "name": "ipython",
    "version": 3
   },
   "file_extension": ".py",
   "mimetype": "text/x-python",
   "name": "python",
   "nbconvert_exporter": "python",
   "pygments_lexer": "ipython3",
   "version": "3.11.3"
  }
 },
 "nbformat": 4,
 "nbformat_minor": 5
}
