{
 "cells": [
  {
   "cell_type": "markdown",
   "id": "1eb62d1f",
   "metadata": {},
   "source": [
    "# 1. 데이터 로드"
   ]
  },
  {
   "cell_type": "code",
   "execution_count": 1,
   "id": "09f051fb",
   "metadata": {},
   "outputs": [
    {
     "name": "stdout",
     "output_type": "stream",
     "text": [
      "Loaded (30h range): upbit_ticker/2025-09-25/upbit_ticker_20250925T11.parquet\n",
      "Loaded (30h range): upbit_ticker/2025-09-25/upbit_ticker_20250925T12.parquet\n",
      "Loaded (30h range): upbit_ticker/2025-09-25/upbit_ticker_20250925T13.parquet\n",
      "Loaded (30h range): upbit_ticker/2025-09-25/upbit_ticker_20250925T14.parquet\n",
      "Loaded (30h range): upbit_ticker/2025-09-25/upbit_ticker_20250925T15.parquet\n",
      "Loaded (30h range): upbit_ticker/2025-09-25/upbit_ticker_20250925T16.parquet\n",
      "Loaded (30h range): upbit_ticker/2025-09-25/upbit_ticker_20250925T17.parquet\n",
      "Loaded (30h range): upbit_ticker/2025-09-25/upbit_ticker_20250925T18.parquet\n",
      "Loaded (30h range): upbit_ticker/2025-09-25/upbit_ticker_20250925T19.parquet\n",
      "Loaded (30h range): upbit_ticker/2025-09-25/upbit_ticker_20250925T20.parquet\n",
      "Loaded (30h range): upbit_ticker/2025-09-25/upbit_ticker_20250925T21.parquet\n",
      "Loaded (30h range): upbit_ticker/2025-09-25/upbit_ticker_20250925T22.parquet\n",
      "Loaded (30h range): upbit_ticker/2025-09-25/upbit_ticker_20250925T23.parquet\n",
      "Loaded (30h range): upbit_ticker/2025-09-26/upbit_ticker_20250926T00.parquet\n",
      "Loaded (30h range): upbit_ticker/2025-09-26/upbit_ticker_20250926T01.parquet\n",
      "Loaded (30h range): upbit_ticker/2025-09-26/upbit_ticker_20250926T02.parquet\n",
      "Loaded (30h range): upbit_ticker/2025-09-26/upbit_ticker_20250926T03.parquet\n",
      "Loaded (30h range): upbit_ticker/2025-09-26/upbit_ticker_20250926T04.parquet\n",
      "Loaded (30h range): upbit_ticker/2025-09-26/upbit_ticker_20250926T05.parquet\n",
      "Loaded (30h range): upbit_ticker/2025-09-26/upbit_ticker_20250926T06.parquet\n",
      "Loaded (30h range): upbit_ticker/2025-09-26/upbit_ticker_20250926T07.parquet\n",
      "Loaded (30h range): upbit_ticker/2025-09-26/upbit_ticker_20250926T08.parquet\n",
      "Loaded (30h range): upbit_ticker/2025-09-26/upbit_ticker_20250926T09.parquet\n",
      "Loaded (30h range): upbit_ticker/2025-09-26/upbit_ticker_20250926T10.parquet\n",
      "Loaded (30h range): upbit_ticker/2025-09-26/upbit_ticker_20250926T11.parquet\n",
      "Loaded (30h range): upbit_ticker/2025-09-26/upbit_ticker_20250926T12.parquet\n",
      "Loaded (30h range): upbit_ticker/2025-09-26/upbit_ticker_20250926T13.parquet\n",
      "Loaded (30h range): upbit_ticker/2025-09-26/upbit_ticker_20250926T14.parquet\n",
      "Loaded (30h range): upbit_ticker/2025-09-26/upbit_ticker_20250926T15.parquet\n",
      "Loaded (30h range): upbit_ticker/2025-09-26/upbit_ticker_20250926T16.parquet\n",
      "All Parquet files concatenated. Shape: (43200, 27)\n",
      "KRW-BTC shape: (30, 28)\n",
      "KRW-DOGE shape: (30, 28)\n",
      "KRW-ETH shape: (30, 28)\n",
      "KRW-XRP shape: (30, 28)\n"
     ]
    },
    {
     "name": "stderr",
     "output_type": "stream",
     "text": [
      "/var/folders/_d/d0lslv953psc0xrjcq10dlk80000gn/T/ipykernel_4175/484494982.py:71: FutureWarning: 'H' is deprecated and will be removed in a future version, please use 'h' instead.\n",
      "  df['event_hour'] = df['event_timestamp'].dt.floor('H')\n"
     ]
    }
   ],
   "source": [
    "import os\n",
    "import io\n",
    "import json\n",
    "import boto3\n",
    "import pandas as pd\n",
    "import numpy as np\n",
    "from dotenv import load_dotenv\n",
    "from datetime import datetime, timedelta, timezone\n",
    "import mlflow\n",
    "import mlflow.keras\n",
    "from joblib import load\n",
    "from sklearn.preprocessing import MinMaxScaler\n",
    "from tensorflow.keras.models import load_model\n",
    "\n",
    "from io import BytesIO\n",
    "from datetime import datetime, timedelta\n",
    "import os\n",
    "from dotenv import load_dotenv\n",
    "\n",
    "load_dotenv()\n",
    "\n",
    "AWS_ACCESS_KEY_ID = os.environ.get(\"AWS_ACCESS_KEY_ID\")\n",
    "AWS_SECRET_ACCESS_KEY = os.environ.get(\"AWS_SECRET_ACCESS_KEY\")\n",
    "BUCKET_NAME = \"raw-data-bucket-moasic-mlops-4\"\n",
    "\n",
    "s3_client = boto3.client(\n",
    "    \"s3\",\n",
    "    aws_access_key_id=AWS_ACCESS_KEY_ID,\n",
    "    aws_secret_access_key=AWS_SECRET_ACCESS_KEY,\n",
    ")\n",
    "\n",
    "now_utc = datetime.utcnow().replace(minute=0, second=0, microsecond=0)\n",
    "start_utc = now_utc - timedelta(hours=30)\n",
    "date_list = pd.date_range(start=start_utc.date(), end=now_utc.date()).strftime(\"%Y-%m-%d\").tolist()\n",
    "\n",
    "dfs = []\n",
    "\n",
    "for date in date_list:\n",
    "    prefix = f\"upbit_ticker/{date}/\"\n",
    "    response = s3_client.list_objects_v2(Bucket=BUCKET_NAME, Prefix=prefix)\n",
    "\n",
    "    if \"Contents\" not in response:\n",
    "        continue\n",
    "\n",
    "    for obj in response[\"Contents\"]:\n",
    "        key = obj[\"Key\"]\n",
    "        if key.endswith(\"/\"):\n",
    "            continue\n",
    "        \n",
    "        file_obj = s3_client.get_object(Bucket=BUCKET_NAME, Key=key)\n",
    "        df_temp = pd.read_parquet(BytesIO(file_obj['Body'].read()))\n",
    "        df_temp['event_timestamp'] = pd.to_datetime(df_temp['timestamp'], unit='ms') + pd.Timedelta(hours=9)\n",
    "\n",
    "        start_kst = start_utc + timedelta(hours=9)\n",
    "        end_kst = now_utc + timedelta(hours=9)\n",
    "        df_temp = df_temp[(df_temp['event_timestamp'] >= start_kst) & (df_temp['event_timestamp'] <= end_kst)]\n",
    "        \n",
    "        if not df_temp.empty:\n",
    "            dfs.append(df_temp)\n",
    "            print(f\"Loaded (30h range): {key}\")\n",
    "\n",
    "if len(dfs) == 0:\n",
    "    print(\"30시간 범위 내 parquet 파일이 없습니다.\")\n",
    "    df = pd.DataFrame()\n",
    "else:\n",
    "    df = pd.concat(dfs, ignore_index=True) \n",
    "    print(\"All Parquet files concatenated. Shape:\", df.shape)\n",
    "\n",
    "if not df.empty:\n",
    "    # 시 단위로 내림 (정시 기준)\n",
    "    df['event_hour'] = df['event_timestamp'].dt.floor('H')\n",
    "\n",
    "    coins = ['KRW-BTC', 'KRW-DOGE', 'KRW-ETH', 'KRW-XRP']\n",
    "    coin_dfs = {}\n",
    "\n",
    "    for coin in coins:\n",
    "        # 각 정시별 첫 거래 선택\n",
    "        coin_df = df[df['market'] == coin].groupby('event_hour').first().reset_index()\n",
    "        coin_dfs[coin] = coin_df\n",
    "        print(f\"{coin} shape:\", coin_df.shape)"
   ]
  },
  {
   "cell_type": "markdown",
   "id": "eb397379",
   "metadata": {},
   "source": [
    "# 2. 데이터 전처리"
   ]
  },
  {
   "cell_type": "code",
   "execution_count": 2,
   "id": "de785bfd",
   "metadata": {},
   "outputs": [
    {
     "name": "stderr",
     "output_type": "stream",
     "text": [
      "/var/folders/_d/d0lslv953psc0xrjcq10dlk80000gn/T/ipykernel_4175/2061239361.py:23: FutureWarning: 'H' is deprecated and will be removed in a future version, please use 'h' instead.\n",
      "  df_btc = df_btc.resample(\"1H\").ffill()\n"
     ]
    }
   ],
   "source": [
    "import os\n",
    "import io\n",
    "import joblib\n",
    "# import mlflow\n",
    "import numpy as np\n",
    "import pandas as pd\n",
    "import matplotlib.pyplot as plt\n",
    "from tensorflow.keras.models import load_model\n",
    "\n",
    "# artifacts 폴더 경로\n",
    "ARTIFACT_DIR = \"artifacts\"\n",
    "\n",
    "# ============================= \n",
    "# 3. KRW-BTC 필터링 + 리샘플링\n",
    "# =============================\n",
    "\n",
    "# 비트코인 선택\n",
    "df_btc = coin_dfs['KRW-BTC']\n",
    "df_btc[\"timestamp\"] = pd.to_datetime(df_btc[\"event_timestamp\"])\n",
    "df_btc = df_btc.set_index(\"timestamp\")\n",
    "\n",
    "# 1시간 단위로 리샘플링\n",
    "df_btc = df_btc.resample(\"1H\").ffill()\n",
    "\n",
    "# =============================\n",
    "# 4. Feature Engineering\n",
    "# =============================\n",
    "#시계열 특징 생성 시 이동평균 MA_6의 결측치가 없기 위해서는 30시간의 데이터를 확보해야 24시간 치 데이터 계산 가능\n",
    "df_btc[\"MA_3\"] = df_btc[\"trade_price\"].rolling(3).mean()\n",
    "df_btc[\"MA_6\"] = df_btc[\"trade_price\"].rolling(6).mean()\n",
    "df_btc[\"lag_1\"] = df_btc[\"trade_price\"].shift(1)\n",
    "\n",
    "df_btc = df_btc.dropna()\n",
    "features = df_btc[[\"trade_price\", \"acc_trade_volume\", \"MA_3\", \"MA_6\", \"lag_1\"]].values\n",
    "\n",
    "# =============================\n",
    "# 5. 입력 시퀀스 만들기 (마지막 24시간)\n",
    "# =============================\n",
    "sequence_length = 24\n",
    "num_features = features.shape[1]\n",
    "\n",
    "def create_sequences(data, seq_len):\n",
    "    X = []\n",
    "    for i in range(len(data) - seq_len+1):\n",
    "        X.append(data[i:i+seq_len])\n",
    "    return np.array(X)\n",
    "\n",
    "X_input = create_sequences(features, sequence_length)"
   ]
  },
  {
   "cell_type": "code",
   "execution_count": 3,
   "id": "8993547a",
   "metadata": {},
   "outputs": [
    {
     "data": {
      "text/plain": [
       "(1, 24, 5)"
      ]
     },
     "execution_count": 3,
     "metadata": {},
     "output_type": "execute_result"
    }
   ],
   "source": [
    "X_input.shape"
   ]
  },
  {
   "cell_type": "markdown",
   "id": "4faf4482",
   "metadata": {},
   "source": [
    "# 3. 모델&스케일러 로드"
   ]
  },
  {
   "cell_type": "code",
   "execution_count": 4,
   "id": "ced7c2ef",
   "metadata": {},
   "outputs": [
    {
     "name": "stderr",
     "output_type": "stream",
     "text": [
      "/opt/miniconda3/envs/mlops/lib/python3.11/site-packages/tqdm/auto.py:21: TqdmWarning: IProgress not found. Please update jupyter and ipywidgets. See https://ipywidgets.readthedocs.io/en/stable/user_install.html\n",
      "  from .autonotebook import tqdm as notebook_tqdm\n",
      "Downloading artifacts: 100%|██████████| 6/6 [00:00<00:00, 18.42it/s]  \n",
      "/opt/miniconda3/envs/mlops/lib/python3.11/site-packages/keras/src/saving/saving_lib.py:797: UserWarning: Skipping variable loading for optimizer 'rmsprop', because it has 7 variables whereas the saved optimizer has 12 variables. \n",
      "  saveable.load_own_variables(weights_store.get(inner_path))\n",
      "Downloading artifacts: 100%|██████████| 1/1 [00:00<00:00, 11.43it/s]\n",
      "Downloading artifacts: 100%|██████████| 1/1 [00:00<00:00, 10.98it/s]"
     ]
    },
    {
     "name": "stdout",
     "output_type": "stream",
     "text": [
      "Model and scalers loaded successfully!\n"
     ]
    },
    {
     "name": "stderr",
     "output_type": "stream",
     "text": [
      "\n"
     ]
    }
   ],
   "source": [
    "import mlflow\n",
    "from mlflow.tracking import MlflowClient\n",
    "import mlflow.keras\n",
    "mlflow.set_tracking_uri(\"http://3.39.10.103:5000\")\n",
    "client = MlflowClient()#tracking_uri=\"http://3.39.10.103:5000\")\n",
    "model_name = \"MyLSTMModel_bitcoin_2\"\n",
    "model_version_alias = \"champion\"\n",
    "model_info = client.get_model_version_by_alias(model_name, model_version_alias)\n",
    "model_tags = model_info.tags\n",
    "run_id = model_info.run_id\n",
    "\n",
    "# Get the model version using a model URI\n",
    "model_uri = f\"models:/{model_name}@{model_version_alias}\"\n",
    "model = mlflow.keras.load_model(model_uri)\n",
    "\n",
    "\n",
    "\n",
    "\n",
    "#스케일러 X, y 불러오기\n",
    "import mlflow\n",
    "import joblib\n",
    "\n",
    "scaler_X_path = mlflow.artifacts.download_artifacts(\n",
    "    run_id=run_id,\n",
    "    artifact_path=\"scaler_X.joblib\"\n",
    ")\n",
    "scaler_X = joblib.load(scaler_X_path)\n",
    "\n",
    "scaler_y_path = mlflow.artifacts.download_artifacts(\n",
    "    run_id=run_id,\n",
    "    artifact_path=\"scaler_y.joblib\"\n",
    ")\n",
    "scaler_y = joblib.load(scaler_y_path)\n",
    "\n",
    "print(\"Model and scalers loaded successfully!\")"
   ]
  },
  {
   "cell_type": "markdown",
   "id": "940228c5",
   "metadata": {},
   "source": [
    "# 추론"
   ]
  },
  {
   "cell_type": "code",
   "execution_count": 5,
   "id": "9d969cd7",
   "metadata": {},
   "outputs": [
    {
     "name": "stdout",
     "output_type": "stream",
     "text": [
      "\u001b[1m1/1\u001b[0m \u001b[32m━━━━━━━━━━━━━━━━━━━━\u001b[0m\u001b[37m\u001b[0m \u001b[1m0s\u001b[0m 131ms/step\n",
      "다음 1시간 예측 가격: 158,430,976.0 원\n"
     ]
    }
   ],
   "source": [
    "X_input_scaled = scaler_X.transform(X_input.reshape(-1, num_features)).reshape(X_input.shape)\n",
    "\n",
    "y_pred_scaled = model.predict(X_input_scaled)\n",
    "y_pred = scaler_y.inverse_transform(y_pred_scaled)\n",
    "\n",
    "print(\"다음 1시간 예측 가격: {:,.1f} 원\".format(y_pred[0][0]))"
   ]
  }
 ],
 "metadata": {
  "kernelspec": {
   "display_name": "mlops",
   "language": "python",
   "name": "python3"
  },
  "language_info": {
   "codemirror_mode": {
    "name": "ipython",
    "version": 3
   },
   "file_extension": ".py",
   "mimetype": "text/x-python",
   "name": "python",
   "nbconvert_exporter": "python",
   "pygments_lexer": "ipython3",
   "version": "3.11.13"
  }
 },
 "nbformat": 4,
 "nbformat_minor": 5
}
